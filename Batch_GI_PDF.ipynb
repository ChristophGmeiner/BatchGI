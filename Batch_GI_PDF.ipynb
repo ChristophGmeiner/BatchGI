{
 "cells": [
  {
   "cell_type": "code",
   "execution_count": 10,
   "metadata": {},
   "outputs": [],
   "source": [
    "from PIL import Image \n",
    "import pytesseract \n",
    "import sys \n",
    "from pdf2image import convert_from_path \n",
    "import os \n",
    "from pymongo import MongoClient\n",
    "import pandas as pd\n",
    "import re"
   ]
  },
  {
   "cell_type": "code",
   "execution_count": 11,
   "metadata": {},
   "outputs": [],
   "source": [
    "client = MongoClient(\"localhost\", 27017)\n",
    "db = client[\"Batch_GI\"]\n",
    "coll = \"Batch_GI\"\n",
    "db_coll = db[coll]"
   ]
  },
  {
   "cell_type": "code",
   "execution_count": 12,
   "metadata": {},
   "outputs": [],
   "source": [
    "path = \"/home/controllingde/G/Batch_GI/\""
   ]
  },
  {
   "cell_type": "code",
   "execution_count": 13,
   "metadata": {},
   "outputs": [],
   "source": [
    "files = os.listdir(path)"
   ]
  },
  {
   "cell_type": "code",
   "execution_count": 14,
   "metadata": {},
   "outputs": [],
   "source": [
    "pdffiles = [path + x for x in files if x.find(\".pdf\") > 0]"
   ]
  },
  {
   "cell_type": "code",
   "execution_count": 35,
   "metadata": {},
   "outputs": [],
   "source": [
    "colnames = ['batch', 'item', '_id', 'FS', 'GI', 'MHD', 'filename']\n",
    "total_df = pd.DataFrame(columns=colnames)"
   ]
  },
  {
   "cell_type": "code",
   "execution_count": 36,
   "metadata": {},
   "outputs": [
    {
     "name": "stderr",
     "output_type": "stream",
     "text": [
      "/usr/local/lib/python3.6/dist-packages/ipykernel_launcher.py:44: DeprecationWarning: remove is deprecated. Use delete_one or delete_many instead.\n",
      "/usr/local/lib/python3.6/dist-packages/ipykernel_launcher.py:44: DeprecationWarning: remove is deprecated. Use delete_one or delete_many instead.\n"
     ]
    },
    {
     "data": {
      "text/html": [
       "<div>\n",
       "<style scoped>\n",
       "    .dataframe tbody tr th:only-of-type {\n",
       "        vertical-align: middle;\n",
       "    }\n",
       "\n",
       "    .dataframe tbody tr th {\n",
       "        vertical-align: top;\n",
       "    }\n",
       "\n",
       "    .dataframe thead th {\n",
       "        text-align: right;\n",
       "    }\n",
       "</style>\n",
       "<table border=\"1\" class=\"dataframe\">\n",
       "  <thead>\n",
       "    <tr style=\"text-align: right;\">\n",
       "      <th></th>\n",
       "      <th>batch</th>\n",
       "      <th>item</th>\n",
       "      <th>FS</th>\n",
       "      <th>GI</th>\n",
       "      <th>MHD</th>\n",
       "      <th>filename</th>\n",
       "    </tr>\n",
       "    <tr>\n",
       "      <th>_id</th>\n",
       "      <th></th>\n",
       "      <th></th>\n",
       "      <th></th>\n",
       "      <th></th>\n",
       "      <th></th>\n",
       "      <th></th>\n",
       "    </tr>\n",
       "  </thead>\n",
       "  <tbody>\n",
       "    <tr>\n",
       "      <th>VY0519002-A_1010526</th>\n",
       "      <td>VY0519002-A</td>\n",
       "      <td>1010526</td>\n",
       "      <td>FS-1411-100-1117-02-APL</td>\n",
       "      <td>GI-1411-1117-01-APL</td>\n",
       "      <td>01/2022</td>\n",
       "      <td>/home/controllingde/G/Batch_GI/GItest01.pdf</td>\n",
       "    </tr>\n",
       "    <tr>\n",
       "      <th>PZ0418194-BU_1010807</th>\n",
       "      <td>PZ0418194-BU</td>\n",
       "      <td>1010807</td>\n",
       "      <td>FS-1295-12x4 0,5-0718-01-APL eked</td>\n",
       "      <td>GI-1295-081 7-01-APL</td>\n",
       "      <td>10/2020</td>\n",
       "      <td>/home/controllingde/G/Batch_GI/GItest02.pdf</td>\n",
       "    </tr>\n",
       "  </tbody>\n",
       "</table>\n",
       "</div>"
      ],
      "text/plain": [
       "                             batch     item  \\\n",
       "_id                                           \n",
       "VY0519002-A_1010526    VY0519002-A  1010526   \n",
       "PZ0418194-BU_1010807  PZ0418194-BU  1010807   \n",
       "\n",
       "                                                     FS                    GI  \\\n",
       "_id                                                                             \n",
       "VY0519002-A_1010526             FS-1411-100-1117-02-APL   GI-1411-1117-01-APL   \n",
       "PZ0418194-BU_1010807  FS-1295-12x4 0,5-0718-01-APL eked  GI-1295-081 7-01-APL   \n",
       "\n",
       "                           MHD                                     filename  \n",
       "_id                                                                          \n",
       "VY0519002-A_1010526    01/2022  /home/controllingde/G/Batch_GI/GItest01.pdf  \n",
       "PZ0418194-BU_1010807   10/2020  /home/controllingde/G/Batch_GI/GItest02.pdf  "
      ]
     },
     "execution_count": 36,
     "metadata": {},
     "output_type": "execute_result"
    }
   ],
   "source": [
    "datepattern = \".(1[0-2]|0[1-9]|\\d)\\/([2-9]\\d[1-9]\\d|[1-9]\\d).\"\n",
    "batchsign = \"Ch.-B.:\"\n",
    "\n",
    "for f in pdffiles:\n",
    "    pages = convert_from_path(f, 500)     \n",
    "    \n",
    "    image_counter = 1\n",
    "    \n",
    "    for p in pages:\n",
    "        filename = \"page_\" + str(image_counter) + \".jpg\"\n",
    "        p.save(filename, \"JPEG\")\n",
    "        image_counter += 1\n",
    "    filelimit = image_counter-1\n",
    "    \n",
    "    impdict = {}\n",
    "    for i in range(1, filelimit + 1):\n",
    "        filename = \"page_\"+str(i)+\".jpg\"\n",
    "        text = str(((pytesseract.image_to_string(Image.open(filename)))))\n",
    "        text = text.replace('-\\n', '')  \n",
    "    \n",
    "        batchind_start = text.rindex(batchsign)\n",
    "    \n",
    "        batchsub1 = text[(batchind_start + len(batchsign) + 1) : ]\n",
    "        impdict[\"batch\"] = batchsub1[0: batchsub1.find(\" \")]\n",
    "        impdict[\"item\"] = batchsub1[(batchsub1.find(\" \") + 1): batchsub1.find(\"\\n\")]\n",
    "    \n",
    "        impdict[\"_id\"] = impdict[\"batch\"] + \"_\" + impdict[\"item\"]\n",
    "    \n",
    "        FSsub = batchsub1[batchsub1.find(\"FS-\"): ]\n",
    "        impdict[\"FS\"] = FSsub[0: FSsub.find(\"\\n\")]\n",
    "\n",
    "        GIsub = batchsub1[batchsub1.find(\"GI-\"): ]\n",
    "        impdict[\"GI\"] = GIsub[0: GIsub.find(\"\\n\")]\n",
    "\n",
    "        #FOLsub = batchsub1[batchsub1.find(\"FOL-\"): ]\n",
    "        #impdict[\"FOL\"] = FOLsub[0: FOLsub.find(\"\\n\")]\n",
    "        \n",
    "        MHD = re.search(datepattern, text)\n",
    "        impdict[\"MHD\"] = text[MHD.start() : MHD.end()-1]\n",
    "             \n",
    "        impdict[\"filename\"] = f\n",
    "        impdict[\"fulltext\"] = text.split(\"\\n\")\n",
    "        \n",
    "    db_coll.remove({\"_id\": impdict[\"_id\"]})\n",
    "    db_coll.insert_one(impdict)\n",
    "    \n",
    "    del impdict[\"fulltext\"]\n",
    "    pre_df = pd.DataFrame.from_dict(impdict, orient=\"index\").transpose()\n",
    "    total_df = pd.concat([total_df, pre_df])\n",
    "    \n",
    "total_df.to_csv(path + \"test01.csv\")\n",
    "total_df.set_index([\"_id\"], inplace=True, verify_integrity=True)\n",
    "total_df.head()"
   ]
  },
  {
   "cell_type": "code",
   "execution_count": null,
   "metadata": {},
   "outputs": [],
   "source": [
    "#for checkng monodb\n",
    "r = db_coll.find()\n",
    "for l in r:\n",
    "    print(l)\n",
    "    print(\"\\n\")"
   ]
  },
  {
   "cell_type": "code",
   "execution_count": null,
   "metadata": {},
   "outputs": [],
   "source": []
  }
 ],
 "metadata": {
  "kernelspec": {
   "display_name": "Python 3",
   "language": "python",
   "name": "python3"
  },
  "language_info": {
   "codemirror_mode": {
    "name": "ipython",
    "version": 3
   },
   "file_extension": ".py",
   "mimetype": "text/x-python",
   "name": "python",
   "nbconvert_exporter": "python",
   "pygments_lexer": "ipython3",
   "version": "3.6.9"
  }
 },
 "nbformat": 4,
 "nbformat_minor": 2
}
