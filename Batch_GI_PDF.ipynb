{
 "cells": [
  {
   "cell_type": "code",
   "execution_count": 1,
   "metadata": {},
   "outputs": [],
   "source": [
    "import pytictoc\n",
    "t = pytictoc.TicToc()\n",
    "t.tic()"
   ]
  },
  {
   "cell_type": "code",
   "execution_count": 2,
   "metadata": {},
   "outputs": [],
   "source": [
    "from PIL import Image \n",
    "import pytesseract \n",
    "import sys \n",
    "from pdf2image import convert_from_path \n",
    "import os \n",
    "from pymongo import MongoClient\n",
    "import pandas as pd\n",
    "import re\n",
    "import gridfs\n",
    "import datetime\n",
    "\n",
    "import warnings\n",
    "warnings.filterwarnings('ignore')"
   ]
  },
  {
   "cell_type": "code",
   "execution_count": 3,
   "metadata": {},
   "outputs": [],
   "source": [
    "client = MongoClient(\"localhost\", 27017)\n",
    "db = client[\"Batch_GI\"]\n",
    "coll = \"Batch_GI\"\n",
    "db_coll = db[coll]\n",
    "\n",
    "fs = gridfs.GridFS(db)"
   ]
  },
  {
   "cell_type": "code",
   "execution_count": 4,
   "metadata": {},
   "outputs": [],
   "source": [
    "path = \"/home/controllingde/G/Batch_GI/\""
   ]
  },
  {
   "cell_type": "code",
   "execution_count": 5,
   "metadata": {},
   "outputs": [],
   "source": [
    "files = os.listdir(path)"
   ]
  },
  {
   "cell_type": "code",
   "execution_count": 6,
   "metadata": {},
   "outputs": [],
   "source": [
    "pdffiles = [path + x for x in files if x.find(\".pdf\") > 0]"
   ]
  },
  {
   "cell_type": "code",
   "execution_count": 7,
   "metadata": {},
   "outputs": [],
   "source": [
    "colnames = ['batch', 'item', '_id', 'FS', 'GI', 'MHD', 'filename']\n",
    "total_df = pd.DataFrame(columns=colnames)"
   ]
  },
  {
   "cell_type": "code",
   "execution_count": 8,
   "metadata": {},
   "outputs": [
    {
     "name": "stdout",
     "output_type": "stream",
     "text": [
      "1 of 2 processed\n",
      "Elapsed time is 9.997037 seconds.\n",
      "1 of 2 processed\n",
      "Elapsed time is 10.134881 seconds.\n",
      "Elapsed time is 21.349700 seconds.\n"
     ]
    }
   ],
   "source": [
    "datepattern = \".(1[0-2]|0[1-9]|\\d)\\/([2-9]\\d[1-9]\\d|[1-9]\\d).\"\n",
    "batchsign = \"Ch.-B.:\"\n",
    "i = 1\n",
    "tl = len(pdffiles)\n",
    "\n",
    "timestamp = str(datetime.datetime.now()).replace(\" \", \"_\")\n",
    "timestamp = timestamp.replace(\":\", \"-\")\n",
    "timestamp = timestamp[0:19]\n",
    "\n",
    "new_filename = \"Matching_Batch_\" + timestamp + \".csv\"\n",
    "\n",
    "for f in pdffiles:\n",
    "    \n",
    "    t2 = pytictoc.TicToc()\n",
    "    t2.tic()\n",
    "    \n",
    "    pages = convert_from_path(f, 500)     \n",
    "    \n",
    "    image_counter = 1\n",
    "    \n",
    "    for p in pages:\n",
    "        filename = \"page_\" + str(image_counter) + \".jpg\"\n",
    "        p.save(filename, \"JPEG\")\n",
    "        image_counter += 1\n",
    "    filelimit = image_counter-1\n",
    "    \n",
    "    impdict = {}\n",
    "    for i in range(1, filelimit + 1):\n",
    "        filename = \"page_\"+str(i)+\".jpg\"\n",
    "        text = str(((pytesseract.image_to_string(Image.open(filename)))))\n",
    "        text = text.replace('-\\n', '')  \n",
    "    \n",
    "        batchind_start = text.rindex(batchsign)\n",
    "    \n",
    "        batchsub1 = text[(batchind_start + len(batchsign) + 1) : ]\n",
    "        impdict[\"batch\"] = batchsub1[0: batchsub1.find(\" \")]\n",
    "        impdict[\"item\"] = batchsub1[(batchsub1.find(\" \") + 1): batchsub1.find(\"\\n\")]\n",
    "    \n",
    "        impdict[\"_id\"] = impdict[\"batch\"] + \"_\" + impdict[\"item\"]\n",
    "    \n",
    "        FSsub = batchsub1[batchsub1.find(\"FS-\"): ]\n",
    "        impdict[\"FS\"] = FSsub[0: FSsub.find(\"\\n\")]\n",
    "\n",
    "        GIsub = batchsub1[batchsub1.find(\"GI-\"): ]\n",
    "        impdict[\"GI\"] = GIsub[0: GIsub.find(\"\\n\")]\n",
    "\n",
    "        #FOLsub = batchsub1[batchsub1.find(\"FOL-\"): ]\n",
    "        #impdict[\"FOL\"] = FOLsub[0: FOLsub.find(\"\\n\")]\n",
    "        \n",
    "        MHD = re.search(datepattern, text)\n",
    "        impdict[\"MHD\"] = text[MHD.start() : MHD.end()-1]\n",
    "             \n",
    "        impdict[\"filename\"] = f\n",
    "        impdict[\"fulltext\"] = text.split(\"\\n\")\n",
    "        \n",
    "        impdict[\"pdffile\"] = fs.put(open(f, 'rb'))\n",
    "        \n",
    "    db_coll.remove({\"_id\": impdict[\"_id\"]})\n",
    "    db_coll.insert_one(impdict)\n",
    "    \n",
    "    del impdict[\"fulltext\"]\n",
    "    del impdict[\"pdffile\"]\n",
    "    pre_df = pd.DataFrame.from_dict(impdict, orient=\"index\").transpose()\n",
    "    total_df = pd.concat([total_df, pre_df])\n",
    "    \n",
    "    print(\"{} of {} processed\".format(i, tl))\n",
    "    \n",
    "    i += 1\n",
    "    \n",
    "    t2.toc()\n",
    "    \n",
    "total_df.to_csv(path + \"test01.csv\")\n",
    "total_df.set_index([\"_id\"], inplace=True, verify_integrity=True)\n",
    "t.toc()\n",
    "#total_df.head()"
   ]
  },
  {
   "cell_type": "code",
   "execution_count": null,
   "metadata": {},
   "outputs": [],
   "source": [
    "#for checkng monodb\n",
    "#r = db_coll.find()\n",
    "#for l in r:\n",
    "#    print(l)\n",
    "#    print(\"\\n\")"
   ]
  },
  {
   "cell_type": "code",
   "execution_count": null,
   "metadata": {},
   "outputs": [],
   "source": []
  }
 ],
 "metadata": {
  "kernelspec": {
   "display_name": "Python 3",
   "language": "python",
   "name": "python3"
  },
  "language_info": {
   "codemirror_mode": {
    "name": "ipython",
    "version": 3
   },
   "file_extension": ".py",
   "mimetype": "text/x-python",
   "name": "python",
   "nbconvert_exporter": "python",
   "pygments_lexer": "ipython3",
   "version": "3.6.9"
  }
 },
 "nbformat": 4,
 "nbformat_minor": 2
}
