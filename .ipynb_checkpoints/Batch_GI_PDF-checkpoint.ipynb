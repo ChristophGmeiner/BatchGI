{
 "cells": [
  {
   "cell_type": "markdown",
   "metadata": {},
   "source": [
    "Load relevant modules."
   ]
  },
  {
   "cell_type": "code",
   "execution_count": 1,
   "metadata": {},
   "outputs": [],
   "source": [
    "import pytictoc\n",
    "t = pytictoc.TicToc()\n",
    "t.tic()"
   ]
  },
  {
   "cell_type": "code",
   "execution_count": 2,
   "metadata": {},
   "outputs": [],
   "source": [
    "from PIL import Image \n",
    "import pytesseract \n",
    "import sys \n",
    "from pdf2image import convert_from_path, convert_from_bytes\n",
    "import os \n",
    "from pymongo import MongoClient\n",
    "import pandas as pd\n",
    "import re\n",
    "import gridfs\n",
    "import datetime\n",
    "#do not print warnings\n",
    "import warnings\n",
    "warnings.filterwarnings('ignore')"
   ]
  },
  {
   "cell_type": "markdown",
   "metadata": {},
   "source": [
    "connect to local MongoDB"
   ]
  },
  {
   "cell_type": "code",
   "execution_count": 3,
   "metadata": {},
   "outputs": [],
   "source": [
    "client = MongoClient(\"localhost\", 27017)\n",
    "db = client[\"Batch_GI\"]\n",
    "coll = \"Batch_GI\"\n",
    "db_coll = db[coll]\n",
    "\n",
    "#gridfs is used for saving binary files to MongoDB\n",
    "fs = gridfs.GridFS(db)"
   ]
  },
  {
   "cell_type": "markdown",
   "metadata": {},
   "source": [
    "Determine rlevant file paths (for the pdf files)."
   ]
  },
  {
   "cell_type": "code",
   "execution_count": 4,
   "metadata": {},
   "outputs": [],
   "source": [
    "path = \"/home/controllingde/G/Batch_GI/\""
   ]
  },
  {
   "cell_type": "code",
   "execution_count": 5,
   "metadata": {},
   "outputs": [],
   "source": [
    "files = os.listdir(path)"
   ]
  },
  {
   "cell_type": "code",
   "execution_count": 7,
   "metadata": {},
   "outputs": [],
   "source": [
    "#find all pdf files\n",
    "pdffiles = [path + x for x in files if x.find(\".pdf\") > 0]"
   ]
  },
  {
   "cell_type": "markdown",
   "metadata": {},
   "source": [
    "Create an empty pandas dataframe for later usage. This dataframe will contain the structured data for all pdfs and will be exported to a csv afterwards."
   ]
  },
  {
   "cell_type": "code",
   "execution_count": 8,
   "metadata": {},
   "outputs": [],
   "source": [
    "colnames = ['batch', 'item', '_id', 'FS', 'GI', 'MHD', 'filename']\n",
    "total_df = pd.DataFrame(columns=colnames)"
   ]
  },
  {
   "cell_type": "markdown",
   "metadata": {},
   "source": [
    "This is the main part. "
   ]
  },
  {
   "cell_type": "code",
   "execution_count": 9,
   "metadata": {},
   "outputs": [
    {
     "name": "stdout",
     "output_type": "stream",
     "text": [
      "1 of 2 processed\n",
      "Elapsed time is 15.970626 seconds.\n",
      "1 of 2 processed\n",
      "Elapsed time is 14.259570 seconds.\n",
      "Elapsed time is 14194.804630 seconds.\n"
     ]
    }
   ],
   "source": [
    "datepattern = \".(1[0-2]|0[1-9]|\\d)\\/([2-9]\\d[1-9]\\d|[1-9]\\d).\"\n",
    "batchsign = \"Ch.-B.:\"\n",
    "i = 1\n",
    "tl = len(pdffiles)\n",
    "\n",
    "timestamp = str(datetime.datetime.now()).replace(\" \", \"_\")\n",
    "timestamp = timestamp.replace(\":\", \"-\")\n",
    "timestamp = timestamp[0:19]\n",
    "\n",
    "new_filename = \"Matching_Batch_\" + timestamp + \".csv\"\n",
    "\n",
    "for f in pdffiles:\n",
    "    \n",
    "    t2 = pytictoc.TicToc()\n",
    "    t2.tic()\n",
    "    \n",
    "    pages = convert_from_path(f, 600)     \n",
    "    \n",
    "    image_counter = 1\n",
    "    \n",
    "    for p in pages:\n",
    "        filename = \"page_\" + str(image_counter) + \".jpg\"\n",
    "        p.save(filename, \"JPEG\")\n",
    "        image_counter += 1\n",
    "    filelimit = image_counter-1\n",
    "    \n",
    "    impdict = {}\n",
    "    for i in range(1, filelimit + 1):\n",
    "        filename = \"page_\"+str(i)+\".jpg\"\n",
    "        text = str(((pytesseract.image_to_string(Image.open(filename)))))\n",
    "        text = text.replace('-\\n', '')  \n",
    "    \n",
    "        batchind_start = text.rindex(batchsign)\n",
    "    \n",
    "        batchsub1 = text[(batchind_start + len(batchsign) + 1) : ]\n",
    "        impdict[\"batch\"] = batchsub1[0: batchsub1.find(\" \")]\n",
    "        impdict[\"item\"] = batchsub1[(batchsub1.find(\" \") + 1): batchsub1.find(\"\\n\")]\n",
    "    \n",
    "        impdict[\"_id\"] = impdict[\"batch\"] + \"_\" + impdict[\"item\"]\n",
    "    \n",
    "        FSsub = batchsub1[batchsub1.find(\"FS-\"): ]\n",
    "        impdict[\"FS\"] = FSsub[0: FSsub.find(\"\\n\")]\n",
    "\n",
    "        GIsub = batchsub1[batchsub1.find(\"GI-\"): ]\n",
    "        impdict[\"GI\"] = GIsub[0: GIsub.find(\"\\n\")]\n",
    "\n",
    "        #FOLsub = batchsub1[batchsub1.find(\"FOL-\"): ]\n",
    "        #impdict[\"FOL\"] = FOLsub[0: FOLsub.find(\"\\n\")]\n",
    "        \n",
    "        MHD = re.search(datepattern, text)\n",
    "        impdict[\"MHD\"] = text[MHD.start() : MHD.end()-1]\n",
    "             \n",
    "        impdict[\"filename\"] = f\n",
    "        impdict[\"fulltext\"] = text.split(\"\\n\")\n",
    "        \n",
    "        impdict[\"pdffile\"] = fs.put(open(f, 'rb'))\n",
    "        \n",
    "    db_coll.remove({\"_id\": impdict[\"_id\"]})\n",
    "    db_coll.insert_one(impdict)\n",
    "    \n",
    "    del impdict[\"fulltext\"]\n",
    "    del impdict[\"pdffile\"]\n",
    "    pre_df = pd.DataFrame.from_dict(impdict, orient=\"index\").transpose()\n",
    "    total_df = pd.concat([total_df, pre_df])\n",
    "    \n",
    "    print(\"{} of {} processed\".format(i, tl))\n",
    "    \n",
    "    i += 1\n",
    "    \n",
    "    t2.toc()\n",
    "    \n",
    "total_df.to_csv(path + new_filename)\n",
    "total_df.set_index([\"_id\"], inplace=True, verify_integrity=True)\n",
    "t.toc()"
   ]
  },
  {
   "cell_type": "markdown",
   "metadata": {},
   "source": [
    "Apparently it takes about 15 seconds for one file and page to process. This us due since we are working here with PDF files, where a photo-copy (i.e. basically an image) is stored.\n",
    "  \n",
    "Let's take a look at the resulting dataframe."
   ]
  },
  {
   "cell_type": "code",
   "execution_count": 10,
   "metadata": {},
   "outputs": [
    {
     "data": {
      "text/html": [
       "<div>\n",
       "<style scoped>\n",
       "    .dataframe tbody tr th:only-of-type {\n",
       "        vertical-align: middle;\n",
       "    }\n",
       "\n",
       "    .dataframe tbody tr th {\n",
       "        vertical-align: top;\n",
       "    }\n",
       "\n",
       "    .dataframe thead th {\n",
       "        text-align: right;\n",
       "    }\n",
       "</style>\n",
       "<table border=\"1\" class=\"dataframe\">\n",
       "  <thead>\n",
       "    <tr style=\"text-align: right;\">\n",
       "      <th></th>\n",
       "      <th>batch</th>\n",
       "      <th>item</th>\n",
       "      <th>FS</th>\n",
       "      <th>GI</th>\n",
       "      <th>MHD</th>\n",
       "      <th>filename</th>\n",
       "    </tr>\n",
       "    <tr>\n",
       "      <th>_id</th>\n",
       "      <th></th>\n",
       "      <th></th>\n",
       "      <th></th>\n",
       "      <th></th>\n",
       "      <th></th>\n",
       "      <th></th>\n",
       "    </tr>\n",
       "  </thead>\n",
       "  <tbody>\n",
       "    <tr>\n",
       "      <th>VY0519002-A_1010526</th>\n",
       "      <td>VY0519002-A</td>\n",
       "      <td>1010526</td>\n",
       "      <td>FS-1411-100-1117-02-APL</td>\n",
       "      <td>GI-1411-1117-01-APL</td>\n",
       "      <td>01/2022</td>\n",
       "      <td>/home/controllingde/G/Batch_GI/GItest01.pdf</td>\n",
       "    </tr>\n",
       "    <tr>\n",
       "      <th>PZ0418194-BU_ee Pe 4010807</th>\n",
       "      <td>PZ0418194-BU</td>\n",
       "      <td>ee Pe 4010807</td>\n",
       "      <td>FS-1295-12x4_0,5-0718-01-APL</td>\n",
       "      <td>GI-1295-081 7-01-APL</td>\n",
       "      <td>10/2020</td>\n",
       "      <td>/home/controllingde/G/Batch_GI/GItest02.pdf</td>\n",
       "    </tr>\n",
       "  </tbody>\n",
       "</table>\n",
       "</div>"
      ],
      "text/plain": [
       "                                   batch           item  \\\n",
       "_id                                                       \n",
       "VY0519002-A_1010526          VY0519002-A        1010526   \n",
       "PZ0418194-BU_ee Pe 4010807  PZ0418194-BU  ee Pe 4010807   \n",
       "\n",
       "                                                      FS  \\\n",
       "_id                                                        \n",
       "VY0519002-A_1010526              FS-1411-100-1117-02-APL   \n",
       "PZ0418194-BU_ee Pe 4010807  FS-1295-12x4_0,5-0718-01-APL   \n",
       "\n",
       "                                              GI       MHD  \\\n",
       "_id                                                          \n",
       "VY0519002-A_1010526          GI-1411-1117-01-APL   01/2022   \n",
       "PZ0418194-BU_ee Pe 4010807  GI-1295-081 7-01-APL   10/2020   \n",
       "\n",
       "                                                               filename  \n",
       "_id                                                                      \n",
       "VY0519002-A_1010526         /home/controllingde/G/Batch_GI/GItest01.pdf  \n",
       "PZ0418194-BU_ee Pe 4010807  /home/controllingde/G/Batch_GI/GItest02.pdf  "
      ]
     },
     "execution_count": 10,
     "metadata": {},
     "output_type": "execute_result"
    }
   ],
   "source": [
    "total_df.head()"
   ]
  },
  {
   "cell_type": "markdown",
   "metadata": {},
   "source": [
    "Finally let's have a look at the data in MongoDB."
   ]
  },
  {
   "cell_type": "code",
   "execution_count": 12,
   "metadata": {},
   "outputs": [
    {
     "name": "stdout",
     "output_type": "stream",
     "text": [
      "{'_id': 'PZ0418194-BU_1010807', 'batch': 'PZ0418194-BU', 'item': '1010807', 'FS': 'FS-1295-12x4 0,5-0718-01-APL eked', 'GI': 'GI-1295-081 7-01-APL', 'MHD': ' 10/2020', 'filename': '/home/controllingde/G/Batch_GI/GItest02.pdf', 'fulltext': ['Nr.:', 'Version (V):', '', 'Ansichtsmusterkontrolle / Freisetzung Seite 1 von 1', '', 'Anlage zu AA-06002 und AA-06005', '', 'PUREN', '', 'PS Tes Phra la) Sips ge', '', ' ', '', 'Piperacillin/Tazobactam PUREN 4 g/0,5 g', '', 'Pulver zur Herstellung einer Infusionsl6sung', '', 'Ch.-B.: PZ0418194-BU 1010807', '', 'Verw. bis: 10/2020 12 Durchstechflaschen', 'groke:', 'Prufpunkte Datum/ Kurzel', 'Packmittelnummer: FS-1295-12x4 0,5-0718-01-APL eked', '', 'Aktuelle Version eingesetzt oO', 'Packmittelnummer: GI-1295-081 7-01-APL', '', 'Bezeichnung:', '', 'ee', '', '   ', ' ', '', 'Faltschachtel', '', '  ', '  ', '', 'a', '', 'Packungsbeilage', '', ' ', '  ', '   ', '', 'Aktuelle Version eingesetzt Oo 18. Olt. 2019,', '', '(', 'Bedrucktes Pri- Packmittelnummer: ET-1295-4 0,5-0817-01-APL eee', 'MERDAERTIIN Aktuelle Version eingesetzt Ey', '', 'Bewertung des Informationsbeauftragten, falls eine oder mehrere der o.g.', 'Komponenten nicht in der aktuellen Version eingesetzt wurden:', '', 'Darf die Charge mit den eingesetzten Packmitteln vertrieben werden?', '', ' ', '', 'Th', 'RIT', '', ' ', ' ', '', ' ', '  ', '  ', '', '    ', '', 'Vorhanden und von einer Sachkundigen Person, des', 'in der Gebrauchsinformation genannten Herstellers', 'unterzeichnet', '', '  ', '', '   ', '  ', '', 'Freigabezertifikat', '(CoC; CoR;)', '', ' ', '  ', '', 'Analysenzertifikat | vorhanden und korrekt unterzeichnet', 'Transport akzeptiert', 'Temperaturen', '', 'a', '[ustomene [aman ocevSSSC*~dS', '', 'ersprcncenvore der', 'rascung | Fala CP Feat ete ver donon2 19 | C', '', 'schutzrichtlinie in Oracle als serialisiert gekennzeichnet', '', 'Upload EU HUB/ nationaler HUB erfolgt oO', 'Anmerkungen: DMC: ]d20104150138142823219RFYONFNG6E7X98C10PZ0418194-BU1 7201031', '18. Okt, 201', 'Es wird bestatigt, dass das geprufte Ansichtsmuster der 0.g. Charge den Vorgaben entspricht. Die notwendigen', 'Zertifikate fur die Charge liegen vor. Somit wird die Charge in Oracle fiir den Vertrieb freigesetzt.', '', 'a) a', 'dlo}ojo|o) jojo', '', '   ', '', '   ', '    ', '  ', '  ', '   ', ' ', '', 'Munchen, den', '', 'O T.Wellner OC.Schade OM.Gottlinger O S.Syre O Dr. U. Nait OA. Ehrhart', 'Qualitatssicherung', '', '    ', '', ' ', '', 'Ruckmeldung von Movianto erfolgt (Datum / Kurzel):'], 'pdffile': ObjectId('5df33e4b94dba51ab14ee119')}\n",
      "\n",
      "\n",
      "{'_id': 'VY0519002-A_1010526', 'batch': 'VY0519002-A', 'item': '1010526', 'FS': 'FS-1411-100-1117-02-APL', 'GI': 'GI-1411-1117-01-APL', 'MHD': '01/2022', 'filename': '/home/controllingde/G/Batch_GI/GItest01.pdf', 'fulltext': ['Nr.: FB-052', 'Version (V): 16', '', 'Miia euis Use', '', ' ', '', 'Ansichtsmusterkontrolle / Freisetzung Seite 1 von 1', 'Anlage zu AA-06002 und AA-06005', '', 'Bezeichnung: Ramipril PUREN 5mg Tabletten', '', 'Ch.-B.: VY0519002-A 1010526', '', '01/2022 100 Tabletten', 'groke', 'Prufpunkte Datum/ Kurzel', '', '19. Nov. 20199', '', 'Gi OF/47 PF 26', 'Yevwer tiv, _', 'A Aj / tt', '', 'Verw. bis:', '', '.', '2', '', 'Packmittelnummer: FS-1411-100-1117-02-APL', 'Faltschachtel', '', 'aE', '', 'Aktuelle Version eingesetzt', '', 'Packmittelnummer: GI-1411-1117-01-APL', '', '‘', '', 'Packungsbeilage', '', ' ', '', 'C', '4', '', 'Aktuelle Version eingesetzt', '', '   ', '', 'Bedrucktes Pri- Packmittelnummer: FOL-1411-10-1117-01-APL', '', 'marpackmittel', '', 'i', 'a', '', ' ', '   ', '  ', '   ', '  ', '', 'Aktuelle Version eingesetzt', '', 'Bewertung des Informationsbeauftragten, falls eine oder mehrere der o.g.', 'Komponenten nicht in der aktuellen Version eingesetzt wurden:', '', 'Darf die Charge mit den eingesetzten Packmitteln vertrieben werden?', '', '       ', '', '444.4;', '', 'Vorhanden und von einer Sachkundigen Person, des', '', 'Freigabezertifikat | der Gebrauchsinformation genannten Herstellers', '(CoC; CoR;)', 'unterzeichnet', '', 'Analysenzertifikat | vorhanden und korrekt unterzeichnet', '', 'HEIs pert akzeptiert', 'Temperaturen', 'Muster gebucht Anzahl:', '', 'entspricht den Vorgaben der FMD', '', '   ', '', ' ', '', '19. Nov. 2019 s/', '19. Nov. 2019', '18, Nov. 2019 sal', '', '9 Nov. 2018', 'in Oracle als serialisiert gekennzeichnet 3, NOV. cu', '', 'Upload EU HUB/ nationaler HUB erfolgt fo |} 060', '', 'schutzrichtlinie', 'DMC: ]d2010415009313249521 X6X61486S4GS5KE10VY0519002-A1 7220131 A', '', 'Anmerkungen: 18 Nov. 2019', '', 'Es wird bestatigt, dass das geprufte Ansichtsmuster der o.g. Charge den Vorgaben entspricht. Die notwendigen', 'Zertifikate fur die Charge liegen vor. Somit wird die Charge in Oracle fir den Vertrieb freigesetzt.', '', '(jesse', 'ojo o] a', '', 'Falschungs- Falls nein: QP-Freigabe erfolgte vor dem 09.02.19', '', 'SF', '', '   ', '', '  ', '', 'x!', '', 'i)o x!', '', ' ', '', ' ', '  ', '', ' ', '', '  ', '   ', ' ', '', 'Munchen, den', '', 'C1 T.Wellner O C.Schade OM.Gottlinger O S.Syre O Dr. U. Nait OA. Ehrhart', 'Qualitatssicherung', '', '    ', '', ' ', '', 'Ruckmeldung von Movianto erfolgt (Datum / Kiirzel):'], 'pdffile': ObjectId('5df8e3cc94dba52116911349')}\n",
      "\n",
      "\n",
      "{'_id': 'PZ0418194-BU_ee Pe 4010807', 'batch': 'PZ0418194-BU', 'item': 'ee Pe 4010807', 'FS': 'FS-1295-12x4_0,5-0718-01-APL', 'GI': 'GI-1295-081 7-01-APL', 'MHD': ' 10/2020', 'filename': '/home/controllingde/G/Batch_GI/GItest02.pdf', 'fulltext': ['Nr.: FB-052', '', 'pnt tes Ets) 1a) ips si', '', 'Version (V): 16', '', ' ', '', 'Ansichtsmusterkontrolle / Freisetzung Seite 1 von 1', '', 'Anlage zu AA-06002 und AA-06005', '', 'Piperacillin/Tazobactam PUREN 4 g/0,5 g', '', 'Pulver zur Herstellung einer Infusionslésung', '', 'Ch.-B.: PZ0418194-BU ee Pe 4010807', '', 'Verw. bis: 10/2020 Pac kungs- 12 Durchstechflaschen', 'groke', 'Datum/ Kurzel', '', 'Bezeichnung:', '', 'Prufpunkte', 'Packmittelnummer: FS-1295-12x4_0,5-0718-01-APL', 'Aktuelle Version eingesetzt', '', 'Packmittelnummer: GI-1295-081 7-01-APL', '', 'Aktuelle Version eingesetzt', 'Packmittelnummer: ET-1295-4 0,5-0817-01-APL', '', 'Aktuelle Version eingesetzt', '', '  ', '', '  ', ' ', '', '  ', '    ', '', 'Faltschachtel', '', 'a', '', 's', '', ' ', ' ', '', 'Packungsbeilage', '', '    ', '', '1 8. Okt. O19,', '', '   ', '', 'Bedrucktes Primarpackmittel', '', ' ', '    ', '', '    ', '    ', ' ', '', ' ', ' ', ' ', '', 'Bewertung des Informationsbeauftragten, falls eine oder mehrere der o.g.', 'Komponenten nicht in der aktuellen Version eingesetzt wurden:', '', 'Darf die Charge mit den eingesetzten Packmitteln vertrieben werden?', '', 'kt', '', ' ', '  ', '  ', '', ' ', '', 'mh', '', 'phate (= ate', 'gjafsjoia| foo os', '', '  ', ' ', '', 'Vorhanden und von einer Sachkundigen Person, des', '', 'Freigabezertifikat in der Gebrauchsinformation genannten Herstellers', '(CoC; CoR;)', 'unterzeichnet', '', 'Analysenzertifikat | vorhanden und korrekt unterzeichnet', 'Transport akzeptiert', 'Temperaturen', 'ara Ce', 'Muster gebucht Anzahl: /0 +A', '', '  ', '   ', '', '   ', '', '18. Okt, 20192', '', '  ', ' ', '  ', ' ', '  ', '', 'entspricht den Vorgaben der FMD |', '', 'Falschungs- Falls nein: QP-Freigabe erfolgte vor dem 09.02.19', 'schutzrichtlinie in Oracle als serialisiert gekennzeichnet', '', 'Upload EU HUB/ nationaler HUB erfolgt', '', 'Anmerkungen: DMC: ]d20104150138142823219RFYO9NFN6E7X98C10PZ0418194-BU1 7201031', '18. Okt, 20', 'Es wird bestatigt, dass das geprufte Ansichtsmuster der 0.g. Charge den Vorgaben entspricht. Die notwendigen', 'Zertifikate fur die Charge liegen vor. Somit wird die Charge in Oracle flr den Vertrieb freigesetzt.', '', ' ', '   ', '  ', '', ' ', '   ', '  ', '', 'oe', '', 'ed', '', '  ', '   ', ' ', '', 'Munchen, den', '', 'O T.Wellner OC.Schade OM.Gottlinger O S.Syre O Dr. U. Nait OA. Ehrhart', 'Qualitatssicherung', '', 'Ruckmeldung von Movianto erfolgt (Datum / Kirzel):'], 'pdffile': ObjectId('5df8e3da94dba5211691134b')}\n",
      "\n",
      "\n"
     ]
    }
   ],
   "source": [
    "#check mongodb\n",
    "r = db_coll.find()\n",
    "for l in r:\n",
    "    print(l)\n",
    "    print(\"\\n\")"
   ]
  }
 ],
 "metadata": {
  "kernelspec": {
   "display_name": "Python 3",
   "language": "python",
   "name": "python3"
  },
  "language_info": {
   "codemirror_mode": {
    "name": "ipython",
    "version": 3
   },
   "file_extension": ".py",
   "mimetype": "text/x-python",
   "name": "python",
   "nbconvert_exporter": "python",
   "pygments_lexer": "ipython3",
   "version": "3.6.9"
  }
 },
 "nbformat": 4,
 "nbformat_minor": 2
}
